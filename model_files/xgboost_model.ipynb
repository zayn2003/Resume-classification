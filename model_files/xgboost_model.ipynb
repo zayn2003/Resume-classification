{
 "cells": [
  {
   "cell_type": "code",
   "execution_count": 1,
   "metadata": {},
   "outputs": [
    {
     "name": "stderr",
     "output_type": "stream",
     "text": [
      "/home/zayn-husyn/ml_project/Resume-classification/.venv/lib/python3.12/site-packages/sklearn/base.py:474: FutureWarning: `BaseEstimator._validate_data` is deprecated in 1.6 and will be removed in 1.7. Use `sklearn.utils.validation.validate_data` instead. This function becomes public and is part of the scikit-learn developer API.\n",
      "  warnings.warn(\n",
      "/home/zayn-husyn/ml_project/Resume-classification/.venv/lib/python3.12/site-packages/sklearn/utils/_tags.py:354: FutureWarning: The SMOTE or classes from which it inherits use `_get_tags` and `_more_tags`. Please define the `__sklearn_tags__` method, or inherit from `sklearn.base.BaseEstimator` and/or other appropriate mixins such as `sklearn.base.TransformerMixin`, `sklearn.base.ClassifierMixin`, `sklearn.base.RegressorMixin`, and `sklearn.base.OutlierMixin`. From scikit-learn 1.7, not defining `__sklearn_tags__` will raise an error.\n",
      "  warnings.warn(\n"
     ]
    },
    {
     "name": "stdout",
     "output_type": "stream",
     "text": [
      "XGBoost Accuracy: 0.8229\n",
      "\n",
      "Classification Report:\n",
      "                        precision    recall  f1-score   support\n",
      "\n",
      "            ACCOUNTANT       0.88      0.83      0.86        18\n",
      "              ADVOCATE       0.81      0.81      0.81        32\n",
      "           AGRICULTURE       0.79      0.71      0.75        21\n",
      "               APPAREL       0.71      0.71      0.71        14\n",
      "                  ARTS       0.85      0.68      0.76        25\n",
      "            AUTOMOBILE       0.78      0.91      0.84        23\n",
      "              AVIATION       0.78      0.84      0.81        25\n",
      "               BANKING       0.64      0.70      0.67        20\n",
      "                   BPO       0.92      1.00      0.96        22\n",
      "  BUSINESS-DEVELOPMENT       0.84      0.89      0.86        18\n",
      "                  CHEF       0.97      0.91      0.94        35\n",
      "          CONSTRUCTION       0.85      0.96      0.90        23\n",
      "            CONSULTANT       0.68      0.72      0.70        18\n",
      "              DESIGNER       0.86      0.92      0.89        26\n",
      "         DIGITAL-MEDIA       0.76      0.64      0.70        25\n",
      "           ENGINEERING       0.91      0.91      0.91        33\n",
      "               FINANCE       0.88      0.74      0.80        19\n",
      "               FITNESS       0.83      0.83      0.83        24\n",
      "            HEALTHCARE       0.81      0.61      0.69        28\n",
      "                    HR       0.68      0.90      0.78        21\n",
      "INFORMATION-TECHNOLOGY       0.82      0.96      0.89        28\n",
      "      PUBLIC-RELATIONS       0.88      0.61      0.72        23\n",
      "                 SALES       0.74      0.80      0.77        25\n",
      "               TEACHER       0.97      0.97      0.97        30\n",
      "\n",
      "              accuracy                           0.82       576\n",
      "             macro avg       0.82      0.82      0.81       576\n",
      "          weighted avg       0.83      0.82      0.82       576\n",
      "\n"
     ]
    }
   ],
   "source": [
    "import pandas as pd\n",
    "import numpy as np\n",
    "from sklearn.model_selection import train_test_split, GridSearchCV\n",
    "from sklearn.feature_extraction.text import TfidfVectorizer\n",
    "from sklearn.metrics import classification_report, accuracy_score\n",
    "from imblearn.over_sampling import SMOTE\n",
    "from xgboost import XGBClassifier\n",
    "from sklearn.preprocessing import LabelEncoder\n",
    "from nltk.corpus import stopwords\n",
    "from nltk.stem import WordNetLemmatizer\n",
    "import re\n",
    "import nltk\n",
    "import joblib\n",
    "\n",
    "nltk.download('stopwords', quiet=True)\n",
    "nltk.download('wordnet', quiet=True)\n",
    "\n",
    "# Load data\n",
    "df = pd.read_csv('../dataset/Resume.csv')\n",
    "\n",
    "# Advanced text preprocessing\n",
    "def preprocess_text(text):\n",
    "    text = text.lower()\n",
    "    text = re.sub(r'[^a-zA-Z\\s]', '', text)\n",
    "    tokens = text.split()\n",
    "    stop_words = set(stopwords.words('english'))\n",
    "    tokens = [token for token in tokens if token not in stop_words]\n",
    "    lemmatizer = WordNetLemmatizer()\n",
    "    tokens = [lemmatizer.lemmatize(token) for token in tokens]\n",
    "    return ' '.join(tokens)\n",
    "\n",
    "df['resume_processed'] = df['Resume_str'].apply(preprocess_text)\n",
    "\n",
    "# Feature extraction\n",
    "vectorizer = TfidfVectorizer(max_features=5000, ngram_range=(1, 2))\n",
    "X = vectorizer.fit_transform(df['resume_processed'])\n",
    "\n",
    "# Define target variable and encode labels\n",
    "label_encoder = LabelEncoder()\n",
    "y = label_encoder.fit_transform(df['Category'])\n",
    "\n",
    "# # Address class imbalance\n",
    "smote = SMOTE(random_state=42)\n",
    "X_res, y_res = smote.fit_resample(X, y)\n",
    "\n",
    "# Split data\n",
    "X_train, X_test, y_train, y_test = train_test_split(X_res, y_res, test_size=0.2, random_state=42)\n",
    "\n",
    "# Train the XGBoost model\n",
    "xgb = XGBClassifier(random_state=42)\n",
    "xgb.fit(X_train, y_train)\n",
    "\n",
    "# Evaluate the model\n",
    "y_pred = xgb.predict(X_test)\n",
    "accuracy = accuracy_score(y_test, y_pred)\n",
    "print(f\"XGBoost Accuracy: {accuracy:.4f}\")\n",
    "\n",
    "print(\"\\nClassification Report:\")\n",
    "print(classification_report(y_test, y_pred, target_names=label_encoder.classes_))\n"
   ]
  },
  {
   "cell_type": "code",
   "execution_count": 2,
   "metadata": {},
   "outputs": [
    {
     "data": {
      "text/plain": [
       "['../pkl/label_encoder.pkl']"
      ]
     },
     "execution_count": 2,
     "metadata": {},
     "output_type": "execute_result"
    }
   ],
   "source": [
    "joblib.dump(xgb, '../pkl/xgb_model.pkl')\n",
    "joblib.dump(vectorizer, '../pkl/vectorizer.pkl')\n",
    "joblib.dump(label_encoder, '../pkl/label_encoder.pkl')"
   ]
  },
  {
   "cell_type": "code",
   "execution_count": 7,
   "metadata": {},
   "outputs": [
    {
     "name": "stdout",
     "output_type": "stream",
     "text": [
      "\n",
      "Best Model (XGBoost) Accuracy: 0.8403\n",
      "\n",
      "Classification Report:\n",
      "                        precision    recall  f1-score   support\n",
      "\n",
      "            ACCOUNTANT       0.85      0.94      0.89        18\n",
      "              ADVOCATE       0.81      0.78      0.79        32\n",
      "           AGRICULTURE       0.85      0.81      0.83        21\n",
      "               APPAREL       0.62      0.57      0.59        14\n",
      "                  ARTS       0.89      0.68      0.77        25\n",
      "            AUTOMOBILE       0.83      0.87      0.85        23\n",
      "              AVIATION       0.81      0.88      0.85        25\n",
      "               BANKING       0.68      0.65      0.67        20\n",
      "                   BPO       1.00      1.00      1.00        22\n",
      "  BUSINESS-DEVELOPMENT       0.84      0.89      0.86        18\n",
      "                  CHEF       0.97      0.91      0.94        35\n",
      "          CONSTRUCTION       0.84      0.91      0.88        23\n",
      "            CONSULTANT       0.73      0.89      0.80        18\n",
      "              DESIGNER       0.89      0.96      0.93        26\n",
      "         DIGITAL-MEDIA       0.77      0.68      0.72        25\n",
      "           ENGINEERING       0.94      0.94      0.94        33\n",
      "               FINANCE       0.84      0.84      0.84        19\n",
      "               FITNESS       0.80      0.83      0.82        24\n",
      "            HEALTHCARE       0.90      0.68      0.78        28\n",
      "                    HR       0.76      0.90      0.83        21\n",
      "INFORMATION-TECHNOLOGY       0.84      0.96      0.90        28\n",
      "      PUBLIC-RELATIONS       0.82      0.61      0.70        23\n",
      "                 SALES       0.75      0.84      0.79        25\n",
      "               TEACHER       0.91      0.97      0.94        30\n",
      "\n",
      "              accuracy                           0.84       576\n",
      "             macro avg       0.83      0.83      0.83       576\n",
      "          weighted avg       0.84      0.84      0.84       576\n",
      "\n"
     ]
    }
   ],
   "source": [
    "# from xgboost import DMatrix, train\n",
    "\n",
    "# # Fine-tuning with Grid Search\n",
    "# param_grid = {\n",
    "#     'n_estimators': [200, 300],\n",
    "#     'learning_rate': [0.1, 0.2],\n",
    "#     'max_depth': [3, 4],\n",
    "#     'subsample': [0.8, 1.0]\n",
    "# }\n",
    "\n",
    "# grid_search = GridSearchCV(estimator=xgb, param_grid=param_grid, cv=3, n_jobs=-1, scoring='accuracy')\n",
    "# grid_search.fit(X_train, y_train)\n",
    "\n",
    "# # Evaluate the fine-tuned model\n",
    "# best_xgb = grid_search.best_estimator_\n",
    "# dtrain = DMatrix(X_train, label=y_train)\n",
    "# dtest = DMatrix(X_test, label=y_test)\n",
    "\n",
    "# params = best_xgb.get_params()\n",
    "# params['num_class'] = len(np.unique(y_train))  # Add num_class parameter\n",
    "\n",
    "# # Train the model with early stopping\n",
    "# best_xgb_model = train(params, dtrain, num_boost_round=params['n_estimators'], early_stopping_rounds=10, evals=[(dtest, 'eval')], verbose_eval=False)\n",
    "\n",
    "# # Predictions with the fine-tuned model\n",
    "# y_pred = best_xgb_model.predict(dtest)\n",
    "# y_pred = np.argmax(y_pred, axis=1)\n",
    "# accuracy = accuracy_score(y_test, y_pred)\n",
    "# print(f\"\\nBest Model (XGBoost) Accuracy: {accuracy:.4f}\")\n",
    "# print(\"\\nClassification Report:\")\n",
    "# print(classification_report(y_test, y_pred, target_names=label_encoder.classes_))\n",
    "\n",
    "from xgboost import DMatrix, train\n",
    "from sklearn.metrics import accuracy_score, classification_report\n",
    "import numpy as np\n",
    "\n",
    "# Define the best parameters (manually set or after GridSearch-like process)\n",
    "best_params = {\n",
    "    'eta': 0.1,  # learning_rate\n",
    "    'max_depth': 3,\n",
    "    'subsample': 0.8,\n",
    "    'objective': 'multi:softprob',\n",
    "    'num_class': len(np.unique(y_train))\n",
    "}\n",
    "\n",
    "# Convert data to DMatrix format\n",
    "dtrain = DMatrix(X_train, label=y_train)\n",
    "dtest = DMatrix(X_test, label=y_test)\n",
    "\n",
    "# Train the model with early stopping\n",
    "evals = [(dtrain, 'train'), (dtest, 'eval')]\n",
    "booster = train(best_params, dtrain, num_boost_round=300, early_stopping_rounds=10, evals=evals, verbose_eval=False)\n",
    "\n",
    "# Make predictions\n",
    "y_pred_prob = booster.predict(dtest)\n",
    "y_pred = np.argmax(y_pred_prob, axis=1)\n",
    "\n",
    "# Evaluate the model\n",
    "accuracy = accuracy_score(y_test, y_pred)\n",
    "print(f\"\\nBest Model (XGBoost) Accuracy: {accuracy:.4f}\")\n",
    "print(\"\\nClassification Report:\")\n",
    "print(classification_report(y_test, y_pred, target_names=label_encoder.classes_))\n"
   ]
  },
  {
   "cell_type": "code",
   "execution_count": 8,
   "metadata": {},
   "outputs": [
    {
     "data": {
      "text/plain": [
       "['../pkl/best_xgb_model.pkl']"
      ]
     },
     "execution_count": 8,
     "metadata": {},
     "output_type": "execute_result"
    }
   ],
   "source": [
    "joblib.dump(xgb, '../pkl/best_xgb_model.pkl')"
   ]
  }
 ],
 "metadata": {
  "kernelspec": {
   "display_name": ".venv",
   "language": "python",
   "name": "python3"
  },
  "language_info": {
   "codemirror_mode": {
    "name": "ipython",
    "version": 3
   },
   "file_extension": ".py",
   "mimetype": "text/x-python",
   "name": "python",
   "nbconvert_exporter": "python",
   "pygments_lexer": "ipython3",
   "version": "3.12.3"
  }
 },
 "nbformat": 4,
 "nbformat_minor": 2
}
